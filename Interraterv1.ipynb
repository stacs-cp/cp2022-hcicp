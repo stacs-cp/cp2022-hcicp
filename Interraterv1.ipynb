{
 "cells": [
  {
   "cell_type": "code",
   "execution_count": 12,
   "metadata": {},
   "outputs": [],
   "source": [
    "from sklearn.metrics import cohen_kappa_score"
   ]
  },
  {
   "cell_type": "code",
   "execution_count": 13,
   "metadata": {},
   "outputs": [],
   "source": [
    "import csv\n",
    "data = {}\n",
    "codes = []\n",
    "currentartifact = ''\n",
    "with open('Interraterv1.csv') as f:\n",
    "    datareader = csv.reader(f, delimiter=',')\n",
    "    for i, row in enumerate(datareader):\n",
    "        if i == 0:\n",
    "            codes = row[3:]\n",
    "        else:\n",
    "            rowData = row[3:]\n",
    "            rowData = filter(lambda e: e != '', rowData)\n",
    "            if row[1] not in data:\n",
    "                data[row[1]] = {}\n",
    "            if row[0] != '':\n",
    "                currentartifact = row[0]\n",
    "            data[row[1]][currentartifact] = list(map(int, rowData))"
   ]
  },
  {
   "cell_type": "code",
   "execution_count": 14,
   "metadata": {},
   "outputs": [],
   "source": [
    "people = list(data.keys())\n",
    "control = 'Yellow'\n",
    "people.remove(control)\n",
    "artifacts = data[control].keys()"
   ]
  },
  {
   "cell_type": "code",
   "execution_count": 15,
   "metadata": {},
   "outputs": [
    {
     "name": "stdout",
     "output_type": "stream",
     "text": [
      "5-9-10-1:Knapsack Blue 0.52\n",
      "5-9-10-1:Knapsack Green 0.5414847161572052\n",
      "5-9-10-1:Knapsack Red 0.7081712062256809\n",
      "4-25-10-1:Sudoku Blue 0.4228456913827655\n",
      "4-25-10-1:Sudoku Green 0.4476987447698745\n",
      "4-25-10-1:Sudoku Red 0.3450292397660819\n",
      "4-20-15-2:Word Crypto Blue 0.6363636363636364\n",
      "4-20-15-2:Word Crypto Green 0.2727272727272727\n",
      "4-20-15-2:Word Crypto Red 0.6449704142011834\n"
     ]
    }
   ],
   "source": [
    "results = {}\n",
    "for artifact in artifacts:\n",
    "    for person in people:\n",
    "        if artifact in data[person]:\n",
    "            person1 = data[person][artifact]\n",
    "            person2 = data[control][artifact]\n",
    "            score = cohen_kappa_score(person1, person2)\n",
    "            print(artifact, person, score)\n",
    "            if person not in results:\n",
    "                results[person] = []\n",
    "            results[person].append(score)"
   ]
  },
  {
   "cell_type": "code",
   "execution_count": 16,
   "metadata": {},
   "outputs": [],
   "source": [
    "avgs = {}\n",
    "for k, v in results.items():\n",
    "    avgs[k] = sum(v)/len(v)"
   ]
  },
  {
   "cell_type": "code",
   "execution_count": 17,
   "metadata": {},
   "outputs": [
    {
     "data": {
      "text/plain": [
       "{'Blue': 0.5264031092488006,\n",
       " 'Green': 0.4206369112181174,\n",
       " 'Red': 0.5660569533976487}"
      ]
     },
     "execution_count": 17,
     "metadata": {},
     "output_type": "execute_result"
    }
   ],
   "source": [
    "avgs"
   ]
  },
  {
   "cell_type": "code",
   "execution_count": 18,
   "metadata": {},
   "outputs": [
    {
     "data": {
      "text/plain": [
       "0.5043656579548556"
      ]
     },
     "execution_count": 18,
     "metadata": {},
     "output_type": "execute_result"
    }
   ],
   "source": [
    "sum(avgs.values())/len(avgs.values())"
   ]
  },
  {
   "cell_type": "code",
   "execution_count": null,
   "metadata": {},
   "outputs": [],
   "source": []
  }
 ],
 "metadata": {
  "kernelspec": {
   "display_name": "Python 3 (ipykernel)",
   "language": "python",
   "name": "python3"
  },
  "language_info": {
   "codemirror_mode": {
    "name": "ipython",
    "version": 3
   },
   "file_extension": ".py",
   "mimetype": "text/x-python",
   "name": "python",
   "nbconvert_exporter": "python",
   "pygments_lexer": "ipython3",
   "version": "3.9.7"
  }
 },
 "nbformat": 4,
 "nbformat_minor": 2
}
