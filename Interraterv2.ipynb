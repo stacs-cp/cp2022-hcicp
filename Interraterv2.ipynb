{
 "cells": [
  {
   "cell_type": "code",
   "execution_count": 1,
   "metadata": {},
   "outputs": [],
   "source": [
    "from sklearn.metrics import cohen_kappa_score"
   ]
  },
  {
   "cell_type": "code",
   "execution_count": 2,
   "metadata": {},
   "outputs": [],
   "source": [
    "import csv\n",
    "data = {}\n",
    "codes = []\n",
    "currentartifact = ''\n",
    "with open('Interraterv2.csv') as f:\n",
    "    datareader = csv.reader(f, delimiter=',')\n",
    "    for i, row in enumerate(datareader):\n",
    "        if i == 0:\n",
    "            codes = row[3:]\n",
    "        else:\n",
    "            rowData = row[3:]\n",
    "            rowData = filter(lambda e: e != '', rowData)\n",
    "            if row[1] not in data:\n",
    "                data[row[1]] = {}\n",
    "            if row[0] != '':\n",
    "                currentartifact = row[0]\n",
    "            data[row[1]][currentartifact] = list(map(int, rowData))"
   ]
  },
  {
   "cell_type": "code",
   "execution_count": 3,
   "metadata": {},
   "outputs": [],
   "source": [
    "people = list(data.keys())\n",
    "control = 'Yellow'\n",
    "people.remove(control)\n",
    "artifacts = data[control].keys()"
   ]
  },
  {
   "cell_type": "code",
   "execution_count": 4,
   "metadata": {},
   "outputs": [
    {
     "name": "stdout",
     "output_type": "stream",
     "text": [
      "5-9-10-1:Knapsack Blue 0.7232472324723247\n",
      "5-9-10-1:Knapsack Green 0.691358024691358\n",
      "5-9-10-1:Knapsack Red 0.7727272727272727\n",
      "4-25-10-1:Sudoku Blue 0.8651685393258427\n",
      "4-25-10-1:Sudoku Green 0.9064327485380117\n",
      "4-25-10-1:Sudoku Red 0.822550831792976\n",
      "4-20-15-2:Word Crypto Blue 0.9101796407185628\n",
      "4-20-15-2:Word Crypto Green 0.6865671641791045\n",
      "4-20-15-2:Word Crypto Red 0.8235294117647058\n"
     ]
    }
   ],
   "source": [
    "results = {}\n",
    "for artifact in artifacts:\n",
    "    for person in people:\n",
    "        if artifact in data[person]:\n",
    "            person1 = data[person][artifact]\n",
    "            person2 = data[control][artifact]\n",
    "            score = cohen_kappa_score(person1, person2)\n",
    "            print(artifact, person, score)\n",
    "            if person not in results:\n",
    "                results[person] = []\n",
    "            results[person].append(score)"
   ]
  },
  {
   "cell_type": "code",
   "execution_count": 5,
   "metadata": {},
   "outputs": [],
   "source": [
    "avgs = {}\n",
    "for k, v in results.items():\n",
    "    avgs[k] = sum(v)/len(v)"
   ]
  },
  {
   "cell_type": "code",
   "execution_count": 6,
   "metadata": {},
   "outputs": [
    {
     "data": {
      "text/plain": [
       "{'Blue': 0.8328651375055768,\n",
       " 'Green': 0.7614526458028248,\n",
       " 'Red': 0.8062691720949848}"
      ]
     },
     "execution_count": 6,
     "metadata": {},
     "output_type": "execute_result"
    }
   ],
   "source": [
    "avgs"
   ]
  },
  {
   "cell_type": "code",
   "execution_count": 7,
   "metadata": {},
   "outputs": [
    {
     "data": {
      "text/plain": [
       "0.8001956518011287"
      ]
     },
     "execution_count": 7,
     "metadata": {},
     "output_type": "execute_result"
    }
   ],
   "source": [
    "sum(avgs.values())/len(avgs.values())"
   ]
  },
  {
   "cell_type": "code",
   "execution_count": null,
   "metadata": {},
   "outputs": [],
   "source": []
  }
 ],
 "metadata": {
  "kernelspec": {
   "display_name": "Python 3 (ipykernel)",
   "language": "python",
   "name": "python3"
  },
  "language_info": {
   "codemirror_mode": {
    "name": "ipython",
    "version": 3
   },
   "file_extension": ".py",
   "mimetype": "text/x-python",
   "name": "python",
   "nbconvert_exporter": "python",
   "pygments_lexer": "ipython3",
   "version": "3.9.7"
  }
 },
 "nbformat": 4,
 "nbformat_minor": 4
}
